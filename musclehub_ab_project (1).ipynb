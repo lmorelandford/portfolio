{
 "cells": [
  {
   "cell_type": "markdown",
   "metadata": {},
   "source": [
    "# A/B Test for MuscleHub\n",
    "***"
   ]
  },
  {
   "cell_type": "markdown",
   "metadata": {},
   "source": [
    "## Introduction"
   ]
  },
  {
   "cell_type": "markdown",
   "metadata": {},
   "source": [
    "Like most businesses, Janet keeps her data in a SQL database. You have already downloaded the data from her database to a csv file, and will load it into a Jupyter Notebook using pandas to conduct A/B testing for the MuscleHub Gym."
   ]
  },
  {
   "cell_type": "markdown",
   "metadata": {},
   "source": [
    "Let's get started!"
   ]
  },
  {
   "cell_type": "markdown",
   "metadata": {},
   "source": [
    "## Import the dataset"
   ]
  },
  {
   "cell_type": "markdown",
   "metadata": {},
   "source": [
    "Janet of MuscleHub has a SQLite database, which contains several tables that will be helpful to you in this investigation. You have already created a csv file for each table.\n",
    "\n",
    "Import the four csv files as pandas DataFrames and examine them. "
   ]
  },
  {
   "cell_type": "code",
   "execution_count": 5,
   "metadata": {},
   "outputs": [],
   "source": [
    "import pandas as pd\n",
    "import matplotlib.pyplot as plt\n",
    "import seaborn as sns\n"
   ]
  },
  {
   "cell_type": "code",
   "execution_count": 7,
   "metadata": {},
   "outputs": [
    {
     "data": {
      "text/html": [
       "<div>\n",
       "<style scoped>\n",
       "    .dataframe tbody tr th:only-of-type {\n",
       "        vertical-align: middle;\n",
       "    }\n",
       "\n",
       "    .dataframe tbody tr th {\n",
       "        vertical-align: top;\n",
       "    }\n",
       "\n",
       "    .dataframe thead th {\n",
       "        text-align: right;\n",
       "    }\n",
       "</style>\n",
       "<table border=\"1\" class=\"dataframe\">\n",
       "  <thead>\n",
       "    <tr style=\"text-align: right;\">\n",
       "      <th></th>\n",
       "      <th>first_name</th>\n",
       "      <th>last_name</th>\n",
       "      <th>email</th>\n",
       "      <th>gender</th>\n",
       "      <th>visit_date</th>\n",
       "    </tr>\n",
       "  </thead>\n",
       "  <tbody>\n",
       "    <tr>\n",
       "      <th>0</th>\n",
       "      <td>Karen</td>\n",
       "      <td>Manning</td>\n",
       "      <td>Karen.Manning@gmail.com</td>\n",
       "      <td>female</td>\n",
       "      <td>5-1-17</td>\n",
       "    </tr>\n",
       "    <tr>\n",
       "      <th>1</th>\n",
       "      <td>Annette</td>\n",
       "      <td>Boone</td>\n",
       "      <td>AB9982@gmail.com</td>\n",
       "      <td>female</td>\n",
       "      <td>5-1-17</td>\n",
       "    </tr>\n",
       "    <tr>\n",
       "      <th>2</th>\n",
       "      <td>Salvador</td>\n",
       "      <td>Merritt</td>\n",
       "      <td>SalvadorMerritt12@outlook.com</td>\n",
       "      <td>male</td>\n",
       "      <td>5-1-17</td>\n",
       "    </tr>\n",
       "    <tr>\n",
       "      <th>3</th>\n",
       "      <td>Martha</td>\n",
       "      <td>Maxwell</td>\n",
       "      <td>Martha.Maxwell@gmail.com</td>\n",
       "      <td>female</td>\n",
       "      <td>5-1-17</td>\n",
       "    </tr>\n",
       "    <tr>\n",
       "      <th>4</th>\n",
       "      <td>Andre</td>\n",
       "      <td>Mayer</td>\n",
       "      <td>AndreMayer90@gmail.com</td>\n",
       "      <td>male</td>\n",
       "      <td>5-1-17</td>\n",
       "    </tr>\n",
       "  </tbody>\n",
       "</table>\n",
       "</div>"
      ],
      "text/plain": [
       "  first_name last_name                          email  gender visit_date\n",
       "0      Karen   Manning        Karen.Manning@gmail.com  female     5-1-17\n",
       "1    Annette     Boone               AB9982@gmail.com  female     5-1-17\n",
       "2   Salvador   Merritt  SalvadorMerritt12@outlook.com    male     5-1-17\n",
       "3     Martha   Maxwell       Martha.Maxwell@gmail.com  female     5-1-17\n",
       "4      Andre     Mayer         AndreMayer90@gmail.com    male     5-1-17"
      ]
     },
     "execution_count": 7,
     "metadata": {},
     "output_type": "execute_result"
    }
   ],
   "source": [
    "visits = pd.read_csv('visits.csv')\n",
    "visits.head()"
   ]
  },
  {
   "cell_type": "code",
   "execution_count": 8,
   "metadata": {},
   "outputs": [
    {
     "data": {
      "text/html": [
       "<div>\n",
       "<style scoped>\n",
       "    .dataframe tbody tr th:only-of-type {\n",
       "        vertical-align: middle;\n",
       "    }\n",
       "\n",
       "    .dataframe tbody tr th {\n",
       "        vertical-align: top;\n",
       "    }\n",
       "\n",
       "    .dataframe thead th {\n",
       "        text-align: right;\n",
       "    }\n",
       "</style>\n",
       "<table border=\"1\" class=\"dataframe\">\n",
       "  <thead>\n",
       "    <tr style=\"text-align: right;\">\n",
       "      <th></th>\n",
       "      <th>first_name</th>\n",
       "      <th>last_name</th>\n",
       "      <th>email</th>\n",
       "      <th>gender</th>\n",
       "      <th>fitness_test_date</th>\n",
       "    </tr>\n",
       "  </thead>\n",
       "  <tbody>\n",
       "    <tr>\n",
       "      <th>0</th>\n",
       "      <td>Kim</td>\n",
       "      <td>Walter</td>\n",
       "      <td>KimWalter58@gmail.com</td>\n",
       "      <td>female</td>\n",
       "      <td>2017-07-03</td>\n",
       "    </tr>\n",
       "    <tr>\n",
       "      <th>1</th>\n",
       "      <td>Tom</td>\n",
       "      <td>Webster</td>\n",
       "      <td>TW3857@gmail.com</td>\n",
       "      <td>male</td>\n",
       "      <td>2017-07-02</td>\n",
       "    </tr>\n",
       "    <tr>\n",
       "      <th>2</th>\n",
       "      <td>Marcus</td>\n",
       "      <td>Bauer</td>\n",
       "      <td>Marcus.Bauer@gmail.com</td>\n",
       "      <td>male</td>\n",
       "      <td>2017-07-01</td>\n",
       "    </tr>\n",
       "    <tr>\n",
       "      <th>3</th>\n",
       "      <td>Roberta</td>\n",
       "      <td>Best</td>\n",
       "      <td>RB6305@hotmail.com</td>\n",
       "      <td>female</td>\n",
       "      <td>2017-07-02</td>\n",
       "    </tr>\n",
       "    <tr>\n",
       "      <th>4</th>\n",
       "      <td>Carrie</td>\n",
       "      <td>Francis</td>\n",
       "      <td>CF1896@hotmail.com</td>\n",
       "      <td>female</td>\n",
       "      <td>2017-07-05</td>\n",
       "    </tr>\n",
       "  </tbody>\n",
       "</table>\n",
       "</div>"
      ],
      "text/plain": [
       "  first_name last_name                   email  gender fitness_test_date\n",
       "0        Kim    Walter   KimWalter58@gmail.com  female        2017-07-03\n",
       "1        Tom   Webster        TW3857@gmail.com    male        2017-07-02\n",
       "2     Marcus     Bauer  Marcus.Bauer@gmail.com    male        2017-07-01\n",
       "3    Roberta      Best      RB6305@hotmail.com  female        2017-07-02\n",
       "4     Carrie   Francis      CF1896@hotmail.com  female        2017-07-05"
      ]
     },
     "execution_count": 8,
     "metadata": {},
     "output_type": "execute_result"
    }
   ],
   "source": [
    "fitness_tests = pd.read_csv(\"fitness_tests.csv\")\n",
    "fitness_tests.head()"
   ]
  },
  {
   "cell_type": "code",
   "execution_count": 9,
   "metadata": {},
   "outputs": [
    {
     "data": {
      "text/html": [
       "<div>\n",
       "<style scoped>\n",
       "    .dataframe tbody tr th:only-of-type {\n",
       "        vertical-align: middle;\n",
       "    }\n",
       "\n",
       "    .dataframe tbody tr th {\n",
       "        vertical-align: top;\n",
       "    }\n",
       "\n",
       "    .dataframe thead th {\n",
       "        text-align: right;\n",
       "    }\n",
       "</style>\n",
       "<table border=\"1\" class=\"dataframe\">\n",
       "  <thead>\n",
       "    <tr style=\"text-align: right;\">\n",
       "      <th></th>\n",
       "      <th>first_name</th>\n",
       "      <th>last_name</th>\n",
       "      <th>email</th>\n",
       "      <th>gender</th>\n",
       "      <th>application_date</th>\n",
       "    </tr>\n",
       "  </thead>\n",
       "  <tbody>\n",
       "    <tr>\n",
       "      <th>0</th>\n",
       "      <td>Roy</td>\n",
       "      <td>Abbott</td>\n",
       "      <td>RoyAbbott32@gmail.com</td>\n",
       "      <td>male</td>\n",
       "      <td>2017-08-12</td>\n",
       "    </tr>\n",
       "    <tr>\n",
       "      <th>1</th>\n",
       "      <td>Agnes</td>\n",
       "      <td>Acevedo</td>\n",
       "      <td>AgnesAcevedo1@gmail.com</td>\n",
       "      <td>female</td>\n",
       "      <td>2017-09-29</td>\n",
       "    </tr>\n",
       "    <tr>\n",
       "      <th>2</th>\n",
       "      <td>Roberta</td>\n",
       "      <td>Acevedo</td>\n",
       "      <td>RA8063@gmail.com</td>\n",
       "      <td>female</td>\n",
       "      <td>2017-09-15</td>\n",
       "    </tr>\n",
       "    <tr>\n",
       "      <th>3</th>\n",
       "      <td>Darren</td>\n",
       "      <td>Acosta</td>\n",
       "      <td>DAcosta1996@hotmail.com</td>\n",
       "      <td>male</td>\n",
       "      <td>2017-07-26</td>\n",
       "    </tr>\n",
       "    <tr>\n",
       "      <th>4</th>\n",
       "      <td>Vernon</td>\n",
       "      <td>Acosta</td>\n",
       "      <td>VAcosta1975@gmail.com</td>\n",
       "      <td>male</td>\n",
       "      <td>2017-07-14</td>\n",
       "    </tr>\n",
       "  </tbody>\n",
       "</table>\n",
       "</div>"
      ],
      "text/plain": [
       "  first_name last_name                    email  gender application_date\n",
       "0        Roy    Abbott    RoyAbbott32@gmail.com    male       2017-08-12\n",
       "1      Agnes   Acevedo  AgnesAcevedo1@gmail.com  female       2017-09-29\n",
       "2    Roberta   Acevedo         RA8063@gmail.com  female       2017-09-15\n",
       "3     Darren    Acosta  DAcosta1996@hotmail.com    male       2017-07-26\n",
       "4     Vernon    Acosta    VAcosta1975@gmail.com    male       2017-07-14"
      ]
     },
     "execution_count": 9,
     "metadata": {},
     "output_type": "execute_result"
    }
   ],
   "source": [
    "applications = pd.read_csv(\"applications.csv\")\n",
    "applications.head()"
   ]
  },
  {
   "cell_type": "code",
   "execution_count": 10,
   "metadata": {},
   "outputs": [
    {
     "data": {
      "text/html": [
       "<div>\n",
       "<style scoped>\n",
       "    .dataframe tbody tr th:only-of-type {\n",
       "        vertical-align: middle;\n",
       "    }\n",
       "\n",
       "    .dataframe tbody tr th {\n",
       "        vertical-align: top;\n",
       "    }\n",
       "\n",
       "    .dataframe thead th {\n",
       "        text-align: right;\n",
       "    }\n",
       "</style>\n",
       "<table border=\"1\" class=\"dataframe\">\n",
       "  <thead>\n",
       "    <tr style=\"text-align: right;\">\n",
       "      <th></th>\n",
       "      <th>first_name</th>\n",
       "      <th>last_name</th>\n",
       "      <th>email</th>\n",
       "      <th>gender</th>\n",
       "      <th>purchase_date</th>\n",
       "    </tr>\n",
       "  </thead>\n",
       "  <tbody>\n",
       "    <tr>\n",
       "      <th>0</th>\n",
       "      <td>Roy</td>\n",
       "      <td>Abbott</td>\n",
       "      <td>RoyAbbott32@gmail.com</td>\n",
       "      <td>male</td>\n",
       "      <td>2017-08-18</td>\n",
       "    </tr>\n",
       "    <tr>\n",
       "      <th>1</th>\n",
       "      <td>Roberta</td>\n",
       "      <td>Acevedo</td>\n",
       "      <td>RA8063@gmail.com</td>\n",
       "      <td>female</td>\n",
       "      <td>2017-09-16</td>\n",
       "    </tr>\n",
       "    <tr>\n",
       "      <th>2</th>\n",
       "      <td>Vernon</td>\n",
       "      <td>Acosta</td>\n",
       "      <td>VAcosta1975@gmail.com</td>\n",
       "      <td>male</td>\n",
       "      <td>2017-07-20</td>\n",
       "    </tr>\n",
       "    <tr>\n",
       "      <th>3</th>\n",
       "      <td>Darren</td>\n",
       "      <td>Acosta</td>\n",
       "      <td>DAcosta1996@hotmail.com</td>\n",
       "      <td>male</td>\n",
       "      <td>2017-07-27</td>\n",
       "    </tr>\n",
       "    <tr>\n",
       "      <th>4</th>\n",
       "      <td>Dawn</td>\n",
       "      <td>Adkins</td>\n",
       "      <td>Dawn.Adkins@gmail.com</td>\n",
       "      <td>female</td>\n",
       "      <td>2017-08-24</td>\n",
       "    </tr>\n",
       "  </tbody>\n",
       "</table>\n",
       "</div>"
      ],
      "text/plain": [
       "  first_name last_name                    email  gender purchase_date\n",
       "0        Roy    Abbott    RoyAbbott32@gmail.com    male    2017-08-18\n",
       "1    Roberta   Acevedo         RA8063@gmail.com  female    2017-09-16\n",
       "2     Vernon    Acosta    VAcosta1975@gmail.com    male    2017-07-20\n",
       "3     Darren    Acosta  DAcosta1996@hotmail.com    male    2017-07-27\n",
       "4       Dawn    Adkins    Dawn.Adkins@gmail.com  female    2017-08-24"
      ]
     },
     "execution_count": 10,
     "metadata": {},
     "output_type": "execute_result"
    }
   ],
   "source": [
    "purchases = pd.read_csv(\"purchases.csv\")\n",
    "purchases.head()"
   ]
  },
  {
   "cell_type": "markdown",
   "metadata": {},
   "source": [
    "## Join all of your data"
   ]
  },
  {
   "cell_type": "markdown",
   "metadata": {},
   "source": [
    "It would be helpful to have a single DataFrame with all of this data. \n",
    "\n",
    "Create a DataFrame containing all of this data. Keep in mind that not all visits in **visits.csv** occurred during the A/B test. You’ll only want to pull data where `visit_date` is on or after 7-1-17.\n",
    "\n",
    "\n",
    "You'll need the following columns:\n",
    "\n",
    "* `visits.first_name`\n",
    "* `visits.last_name`\n",
    "* `visits.gender`\n",
    "* `visits.email`\n",
    "* `visits.visit_date`\n",
    "* `fitness_tests.fitness_test_date`\n",
    "* `applications.application_date`\n",
    "* `purchases.purchase_date`"
   ]
  },
  {
   "cell_type": "code",
   "execution_count": 11,
   "metadata": {},
   "outputs": [
    {
     "data": {
      "text/plain": [
       "(5000, 5)"
      ]
     },
     "execution_count": 11,
     "metadata": {},
     "output_type": "execute_result"
    }
   ],
   "source": [
    "#new visit df with visits on or after 7-1-17\n",
    "visits = visits[visits['visit_date'] >= '7-1-17']\n",
    "visits.shape"
   ]
  },
  {
   "cell_type": "code",
   "execution_count": 12,
   "metadata": {},
   "outputs": [
    {
     "data": {
      "text/html": [
       "<div>\n",
       "<style scoped>\n",
       "    .dataframe tbody tr th:only-of-type {\n",
       "        vertical-align: middle;\n",
       "    }\n",
       "\n",
       "    .dataframe tbody tr th {\n",
       "        vertical-align: top;\n",
       "    }\n",
       "\n",
       "    .dataframe thead th {\n",
       "        text-align: right;\n",
       "    }\n",
       "</style>\n",
       "<table border=\"1\" class=\"dataframe\">\n",
       "  <thead>\n",
       "    <tr style=\"text-align: right;\">\n",
       "      <th></th>\n",
       "      <th>first_name</th>\n",
       "      <th>last_name</th>\n",
       "      <th>email</th>\n",
       "      <th>gender</th>\n",
       "      <th>visit_date</th>\n",
       "      <th>fitness_test_date</th>\n",
       "      <th>application_date</th>\n",
       "      <th>purchase_date</th>\n",
       "    </tr>\n",
       "  </thead>\n",
       "  <tbody>\n",
       "    <tr>\n",
       "      <th>0</th>\n",
       "      <td>Kim</td>\n",
       "      <td>Walter</td>\n",
       "      <td>KimWalter58@gmail.com</td>\n",
       "      <td>female</td>\n",
       "      <td>7-1-17</td>\n",
       "      <td>2017-07-03</td>\n",
       "      <td>NaN</td>\n",
       "      <td>NaN</td>\n",
       "    </tr>\n",
       "    <tr>\n",
       "      <th>1</th>\n",
       "      <td>Tom</td>\n",
       "      <td>Webster</td>\n",
       "      <td>TW3857@gmail.com</td>\n",
       "      <td>male</td>\n",
       "      <td>7-1-17</td>\n",
       "      <td>2017-07-02</td>\n",
       "      <td>NaN</td>\n",
       "      <td>NaN</td>\n",
       "    </tr>\n",
       "    <tr>\n",
       "      <th>2</th>\n",
       "      <td>Edward</td>\n",
       "      <td>Bowen</td>\n",
       "      <td>Edward.Bowen@gmail.com</td>\n",
       "      <td>male</td>\n",
       "      <td>7-1-17</td>\n",
       "      <td>NaN</td>\n",
       "      <td>2017-07-04</td>\n",
       "      <td>2017-07-04</td>\n",
       "    </tr>\n",
       "    <tr>\n",
       "      <th>3</th>\n",
       "      <td>Marcus</td>\n",
       "      <td>Bauer</td>\n",
       "      <td>Marcus.Bauer@gmail.com</td>\n",
       "      <td>male</td>\n",
       "      <td>7-1-17</td>\n",
       "      <td>2017-07-01</td>\n",
       "      <td>2017-07-03</td>\n",
       "      <td>2017-07-05</td>\n",
       "    </tr>\n",
       "    <tr>\n",
       "      <th>4</th>\n",
       "      <td>Roberta</td>\n",
       "      <td>Best</td>\n",
       "      <td>RB6305@hotmail.com</td>\n",
       "      <td>female</td>\n",
       "      <td>7-1-17</td>\n",
       "      <td>2017-07-02</td>\n",
       "      <td>NaN</td>\n",
       "      <td>NaN</td>\n",
       "    </tr>\n",
       "  </tbody>\n",
       "</table>\n",
       "</div>"
      ],
      "text/plain": [
       "  first_name last_name                   email  gender visit_date  \\\n",
       "0        Kim    Walter   KimWalter58@gmail.com  female     7-1-17   \n",
       "1        Tom   Webster        TW3857@gmail.com    male     7-1-17   \n",
       "2     Edward     Bowen  Edward.Bowen@gmail.com    male     7-1-17   \n",
       "3     Marcus     Bauer  Marcus.Bauer@gmail.com    male     7-1-17   \n",
       "4    Roberta      Best      RB6305@hotmail.com  female     7-1-17   \n",
       "\n",
       "  fitness_test_date application_date purchase_date  \n",
       "0        2017-07-03              NaN           NaN  \n",
       "1        2017-07-02              NaN           NaN  \n",
       "2               NaN       2017-07-04    2017-07-04  \n",
       "3        2017-07-01       2017-07-03    2017-07-05  \n",
       "4        2017-07-02              NaN           NaN  "
      ]
     },
     "execution_count": 12,
     "metadata": {},
     "output_type": "execute_result"
    }
   ],
   "source": [
    "df = visits.merge(fitness_tests,on=['first_name', 'last_name', 'email', 'gender'], how='left').merge(\n",
    "    applications, on=['first_name', 'last_name', 'email', 'gender'], how='left').merge(\n",
    "    purchases, on=['first_name', 'last_name', 'email', 'gender'], how='left')\n",
    "df.head()"
   ]
  },
  {
   "cell_type": "code",
   "execution_count": 13,
   "metadata": {},
   "outputs": [
    {
     "data": {
      "text/plain": [
       "(5004, 8)"
      ]
     },
     "execution_count": 13,
     "metadata": {},
     "output_type": "execute_result"
    }
   ],
   "source": [
    "df.shape"
   ]
  },
  {
   "cell_type": "markdown",
   "metadata": {},
   "source": [
    "## Visualize the Groups"
   ]
  },
  {
   "cell_type": "markdown",
   "metadata": {},
   "source": [
    "Having compiled the DataFrame we can use to begin our project.\n",
    "\n",
    "Make at least one visualization that depicts the distribution of potential customers that were given a fitness test and those that were not:\n",
    "- Create a bar plot of the test group variable's distribution.\n",
    "- Create a pie cart using `plt.pie()`."
   ]
  },
  {
   "cell_type": "code",
   "execution_count": 14,
   "metadata": {},
   "outputs": [
    {
     "data": {
      "text/html": [
       "<div>\n",
       "<style scoped>\n",
       "    .dataframe tbody tr th:only-of-type {\n",
       "        vertical-align: middle;\n",
       "    }\n",
       "\n",
       "    .dataframe tbody tr th {\n",
       "        vertical-align: top;\n",
       "    }\n",
       "\n",
       "    .dataframe thead th {\n",
       "        text-align: right;\n",
       "    }\n",
       "</style>\n",
       "<table border=\"1\" class=\"dataframe\">\n",
       "  <thead>\n",
       "    <tr style=\"text-align: right;\">\n",
       "      <th></th>\n",
       "      <th>first_name</th>\n",
       "      <th>last_name</th>\n",
       "      <th>email</th>\n",
       "      <th>gender</th>\n",
       "      <th>visit_date</th>\n",
       "      <th>fitness_test_date</th>\n",
       "      <th>application_date</th>\n",
       "      <th>purchase_date</th>\n",
       "      <th>ab_test_group</th>\n",
       "    </tr>\n",
       "  </thead>\n",
       "  <tbody>\n",
       "    <tr>\n",
       "      <th>0</th>\n",
       "      <td>Kim</td>\n",
       "      <td>Walter</td>\n",
       "      <td>KimWalter58@gmail.com</td>\n",
       "      <td>female</td>\n",
       "      <td>7-1-17</td>\n",
       "      <td>2017-07-03</td>\n",
       "      <td>NaN</td>\n",
       "      <td>NaN</td>\n",
       "      <td>A</td>\n",
       "    </tr>\n",
       "    <tr>\n",
       "      <th>1</th>\n",
       "      <td>Tom</td>\n",
       "      <td>Webster</td>\n",
       "      <td>TW3857@gmail.com</td>\n",
       "      <td>male</td>\n",
       "      <td>7-1-17</td>\n",
       "      <td>2017-07-02</td>\n",
       "      <td>NaN</td>\n",
       "      <td>NaN</td>\n",
       "      <td>A</td>\n",
       "    </tr>\n",
       "    <tr>\n",
       "      <th>2</th>\n",
       "      <td>Edward</td>\n",
       "      <td>Bowen</td>\n",
       "      <td>Edward.Bowen@gmail.com</td>\n",
       "      <td>male</td>\n",
       "      <td>7-1-17</td>\n",
       "      <td>NaN</td>\n",
       "      <td>2017-07-04</td>\n",
       "      <td>2017-07-04</td>\n",
       "      <td>B</td>\n",
       "    </tr>\n",
       "    <tr>\n",
       "      <th>3</th>\n",
       "      <td>Marcus</td>\n",
       "      <td>Bauer</td>\n",
       "      <td>Marcus.Bauer@gmail.com</td>\n",
       "      <td>male</td>\n",
       "      <td>7-1-17</td>\n",
       "      <td>2017-07-01</td>\n",
       "      <td>2017-07-03</td>\n",
       "      <td>2017-07-05</td>\n",
       "      <td>A</td>\n",
       "    </tr>\n",
       "    <tr>\n",
       "      <th>4</th>\n",
       "      <td>Roberta</td>\n",
       "      <td>Best</td>\n",
       "      <td>RB6305@hotmail.com</td>\n",
       "      <td>female</td>\n",
       "      <td>7-1-17</td>\n",
       "      <td>2017-07-02</td>\n",
       "      <td>NaN</td>\n",
       "      <td>NaN</td>\n",
       "      <td>A</td>\n",
       "    </tr>\n",
       "  </tbody>\n",
       "</table>\n",
       "</div>"
      ],
      "text/plain": [
       "  first_name last_name                   email  gender visit_date  \\\n",
       "0        Kim    Walter   KimWalter58@gmail.com  female     7-1-17   \n",
       "1        Tom   Webster        TW3857@gmail.com    male     7-1-17   \n",
       "2     Edward     Bowen  Edward.Bowen@gmail.com    male     7-1-17   \n",
       "3     Marcus     Bauer  Marcus.Bauer@gmail.com    male     7-1-17   \n",
       "4    Roberta      Best      RB6305@hotmail.com  female     7-1-17   \n",
       "\n",
       "  fitness_test_date application_date purchase_date ab_test_group  \n",
       "0        2017-07-03              NaN           NaN             A  \n",
       "1        2017-07-02              NaN           NaN             A  \n",
       "2               NaN       2017-07-04    2017-07-04             B  \n",
       "3        2017-07-01       2017-07-03    2017-07-05             A  \n",
       "4        2017-07-02              NaN           NaN             A  "
      ]
     },
     "execution_count": 14,
     "metadata": {},
     "output_type": "execute_result"
    }
   ],
   "source": [
    "#create ab_test_group variable\n",
    "df['ab_test_group'] = df.fitness_test_date.apply(lambda x: 'A' if pd.notnull(x) else 'B' )\n",
    "df.head()"
   ]
  },
  {
   "cell_type": "code",
   "execution_count": 15,
   "metadata": {},
   "outputs": [
    {
     "data": {
      "text/plain": [
       "<AxesSubplot:xlabel='ab_test_group', ylabel='count'>"
      ]
     },
     "execution_count": 15,
     "metadata": {},
     "output_type": "execute_result"
    },
    {
     "data": {
      "image/png": "[encoded data removed]",
      "text/plain": [
       "<Figure size 432x288 with 1 Axes>"
      ]
     },
     "metadata": {
      "needs_background": "light"
     },
     "output_type": "display_data"
    }
   ],
   "source": [
    "#create bar plot of test group variable's distribution\n",
    "sns.countplot(data=df, x='ab_test_group')"
   ]
  },
  {
   "cell_type": "code",
   "execution_count": 16,
   "metadata": {},
   "outputs": [
    {
     "data": {
      "text/plain": [
       "A    2504\n",
       "B    2500\n",
       "Name: ab_test_group, dtype: int64"
      ]
     },
     "execution_count": 16,
     "metadata": {},
     "output_type": "execute_result"
    }
   ],
   "source": [
    "#determine and obtain total counts\n",
    "df['ab_test_group'].value_counts()"
   ]
  },
  {
   "cell_type": "code",
   "execution_count": 17,
   "metadata": {},
   "outputs": [
    {
     "data": {
      "text/plain": [
       "A    0.5004\n",
       "B    0.4996\n",
       "Name: ab_test_group, dtype: float64"
      ]
     },
     "execution_count": 17,
     "metadata": {},
     "output_type": "execute_result"
    }
   ],
   "source": [
    "#A-B Test proportions\n",
    "df['ab_test_group'].value_counts(normalize=True)"
   ]
  },
  {
   "cell_type": "code",
   "execution_count": 18,
   "metadata": {},
   "outputs": [
    {
     "data": {
      "text/plain": [
       "([<matplotlib.patches.Wedge at 0x161d88d5be0>,\n",
       "  <matplotlib.patches.Wedge at 0x161d88e43d0>],\n",
       " [Text(-0.0013812939094379835, 1.0999991327392653, 'A'),\n",
       "  Text(0.0013813968987893594, -1.0999991326099345, 'B')],\n",
       " [Text(-0.0007534330415116272, 0.5999995269486901, '50.04%'),\n",
       "  Text(0.0007534892175214686, -0.5999995268781461, '49.96%')])"
      ]
     },
     "execution_count": 18,
     "metadata": {},
     "output_type": "execute_result"
    },
    {
     "data": {
      "image/png": "[encoded data removed]",
      "text/plain": [
       "<Figure size 432x288 with 1 Axes>"
      ]
     },
     "metadata": {},
     "output_type": "display_data"
    }
   ],
   "source": [
    "#Pie plot of distributions\n",
    "plt.pie(df['ab_test_group'].value_counts(), labels=['A','B'], autopct='%0.2f%%')"
   ]
  },
  {
   "cell_type": "markdown",
   "metadata": {},
   "source": [
    "## Determine the count of applications"
   ]
  },
  {
   "cell_type": "markdown",
   "metadata": {},
   "source": [
    "Recall that the sign-up process for MuscleHub has several steps:\n",
    "\n",
    "1. Take a fitness test with a personal trainer (only Group A).\n",
    "2. Fill out an application for the gym.\n",
    "3. Send in their payment for their first month's membership.\n",
    "\n",
    "Determine the percentage of people in each group who complete Step 2, filling out an application."
   ]
  },
  {
   "cell_type": "code",
   "execution_count": 19,
   "metadata": {},
   "outputs": [
    {
     "data": {
      "text/html": [
       "<div>\n",
       "<style scoped>\n",
       "    .dataframe tbody tr th:only-of-type {\n",
       "        vertical-align: middle;\n",
       "    }\n",
       "\n",
       "    .dataframe tbody tr th {\n",
       "        vertical-align: top;\n",
       "    }\n",
       "\n",
       "    .dataframe thead th {\n",
       "        text-align: right;\n",
       "    }\n",
       "</style>\n",
       "<table border=\"1\" class=\"dataframe\">\n",
       "  <thead>\n",
       "    <tr style=\"text-align: right;\">\n",
       "      <th></th>\n",
       "      <th>first_name</th>\n",
       "      <th>last_name</th>\n",
       "      <th>email</th>\n",
       "      <th>gender</th>\n",
       "      <th>visit_date</th>\n",
       "      <th>fitness_test_date</th>\n",
       "      <th>application_date</th>\n",
       "      <th>purchase_date</th>\n",
       "      <th>ab_test_group</th>\n",
       "      <th>application_status</th>\n",
       "    </tr>\n",
       "  </thead>\n",
       "  <tbody>\n",
       "    <tr>\n",
       "      <th>0</th>\n",
       "      <td>Kim</td>\n",
       "      <td>Walter</td>\n",
       "      <td>KimWalter58@gmail.com</td>\n",
       "      <td>female</td>\n",
       "      <td>7-1-17</td>\n",
       "      <td>2017-07-03</td>\n",
       "      <td>NaN</td>\n",
       "      <td>NaN</td>\n",
       "      <td>A</td>\n",
       "      <td>incomplete</td>\n",
       "    </tr>\n",
       "    <tr>\n",
       "      <th>1</th>\n",
       "      <td>Tom</td>\n",
       "      <td>Webster</td>\n",
       "      <td>TW3857@gmail.com</td>\n",
       "      <td>male</td>\n",
       "      <td>7-1-17</td>\n",
       "      <td>2017-07-02</td>\n",
       "      <td>NaN</td>\n",
       "      <td>NaN</td>\n",
       "      <td>A</td>\n",
       "      <td>incomplete</td>\n",
       "    </tr>\n",
       "    <tr>\n",
       "      <th>2</th>\n",
       "      <td>Edward</td>\n",
       "      <td>Bowen</td>\n",
       "      <td>Edward.Bowen@gmail.com</td>\n",
       "      <td>male</td>\n",
       "      <td>7-1-17</td>\n",
       "      <td>NaN</td>\n",
       "      <td>2017-07-04</td>\n",
       "      <td>2017-07-04</td>\n",
       "      <td>B</td>\n",
       "      <td>complete</td>\n",
       "    </tr>\n",
       "    <tr>\n",
       "      <th>3</th>\n",
       "      <td>Marcus</td>\n",
       "      <td>Bauer</td>\n",
       "      <td>Marcus.Bauer@gmail.com</td>\n",
       "      <td>male</td>\n",
       "      <td>7-1-17</td>\n",
       "      <td>2017-07-01</td>\n",
       "      <td>2017-07-03</td>\n",
       "      <td>2017-07-05</td>\n",
       "      <td>A</td>\n",
       "      <td>complete</td>\n",
       "    </tr>\n",
       "    <tr>\n",
       "      <th>4</th>\n",
       "      <td>Roberta</td>\n",
       "      <td>Best</td>\n",
       "      <td>RB6305@hotmail.com</td>\n",
       "      <td>female</td>\n",
       "      <td>7-1-17</td>\n",
       "      <td>2017-07-02</td>\n",
       "      <td>NaN</td>\n",
       "      <td>NaN</td>\n",
       "      <td>A</td>\n",
       "      <td>incomplete</td>\n",
       "    </tr>\n",
       "  </tbody>\n",
       "</table>\n",
       "</div>"
      ],
      "text/plain": [
       "  first_name last_name                   email  gender visit_date  \\\n",
       "0        Kim    Walter   KimWalter58@gmail.com  female     7-1-17   \n",
       "1        Tom   Webster        TW3857@gmail.com    male     7-1-17   \n",
       "2     Edward     Bowen  Edward.Bowen@gmail.com    male     7-1-17   \n",
       "3     Marcus     Bauer  Marcus.Bauer@gmail.com    male     7-1-17   \n",
       "4    Roberta      Best      RB6305@hotmail.com  female     7-1-17   \n",
       "\n",
       "  fitness_test_date application_date purchase_date ab_test_group  \\\n",
       "0        2017-07-03              NaN           NaN             A   \n",
       "1        2017-07-02              NaN           NaN             A   \n",
       "2               NaN       2017-07-04    2017-07-04             B   \n",
       "3        2017-07-01       2017-07-03    2017-07-05             A   \n",
       "4        2017-07-02              NaN           NaN             A   \n",
       "\n",
       "  application_status  \n",
       "0         incomplete  \n",
       "1         incomplete  \n",
       "2           complete  \n",
       "3           complete  \n",
       "4         incomplete  "
      ]
     },
     "execution_count": 19,
     "metadata": {},
     "output_type": "execute_result"
    }
   ],
   "source": [
    "#create 'application_status' variable\n",
    "df['application_status'] = df.application_date.apply(lambda x: 'complete' if pd.notnull(x) else 'incomplete' )\n",
    "df.head()"
   ]
  },
  {
   "cell_type": "code",
   "execution_count": 20,
   "metadata": {},
   "outputs": [
    {
     "data": {
      "text/html": [
       "<div>\n",
       "<style scoped>\n",
       "    .dataframe tbody tr th:only-of-type {\n",
       "        vertical-align: middle;\n",
       "    }\n",
       "\n",
       "    .dataframe tbody tr th {\n",
       "        vertical-align: top;\n",
       "    }\n",
       "\n",
       "    .dataframe thead th {\n",
       "        text-align: right;\n",
       "    }\n",
       "</style>\n",
       "<table border=\"1\" class=\"dataframe\">\n",
       "  <thead>\n",
       "    <tr style=\"text-align: right;\">\n",
       "      <th></th>\n",
       "      <th>ab_test_group</th>\n",
       "      <th>application_status</th>\n",
       "      <th>first_name</th>\n",
       "    </tr>\n",
       "  </thead>\n",
       "  <tbody>\n",
       "    <tr>\n",
       "      <th>0</th>\n",
       "      <td>A</td>\n",
       "      <td>complete</td>\n",
       "      <td>250</td>\n",
       "    </tr>\n",
       "    <tr>\n",
       "      <th>1</th>\n",
       "      <td>A</td>\n",
       "      <td>incomplete</td>\n",
       "      <td>2254</td>\n",
       "    </tr>\n",
       "    <tr>\n",
       "      <th>2</th>\n",
       "      <td>B</td>\n",
       "      <td>complete</td>\n",
       "      <td>325</td>\n",
       "    </tr>\n",
       "    <tr>\n",
       "      <th>3</th>\n",
       "      <td>B</td>\n",
       "      <td>incomplete</td>\n",
       "      <td>2175</td>\n",
       "    </tr>\n",
       "  </tbody>\n",
       "</table>\n",
       "</div>"
      ],
      "text/plain": [
       "  ab_test_group application_status  first_name\n",
       "0             A           complete         250\n",
       "1             A         incomplete        2254\n",
       "2             B           complete         325\n",
       "3             B         incomplete        2175"
      ]
     },
     "execution_count": 20,
     "metadata": {},
     "output_type": "execute_result"
    }
   ],
   "source": [
    "#create application and group table\n",
    "application_counts = df.groupby(['ab_test_group', 'application_status']).first_name.count().reset_index()\n",
    "application_counts"
   ]
  },
  {
   "cell_type": "code",
   "execution_count": 21,
   "metadata": {},
   "outputs": [
    {
     "data": {
      "text/html": [
       "<div>\n",
       "<style scoped>\n",
       "    .dataframe tbody tr th:only-of-type {\n",
       "        vertical-align: middle;\n",
       "    }\n",
       "\n",
       "    .dataframe tbody tr th {\n",
       "        vertical-align: top;\n",
       "    }\n",
       "\n",
       "    .dataframe thead th {\n",
       "        text-align: right;\n",
       "    }\n",
       "</style>\n",
       "<table border=\"1\" class=\"dataframe\">\n",
       "  <thead>\n",
       "    <tr style=\"text-align: right;\">\n",
       "      <th>application_status</th>\n",
       "      <th>ab_test_group</th>\n",
       "      <th>complete</th>\n",
       "      <th>incomplete</th>\n",
       "      <th>total</th>\n",
       "      <th>percent_applied</th>\n",
       "    </tr>\n",
       "  </thead>\n",
       "  <tbody>\n",
       "    <tr>\n",
       "      <th>0</th>\n",
       "      <td>A</td>\n",
       "      <td>250</td>\n",
       "      <td>2254</td>\n",
       "      <td>2504</td>\n",
       "      <td>0.09984</td>\n",
       "    </tr>\n",
       "    <tr>\n",
       "      <th>1</th>\n",
       "      <td>B</td>\n",
       "      <td>325</td>\n",
       "      <td>2175</td>\n",
       "      <td>2500</td>\n",
       "      <td>0.13000</td>\n",
       "    </tr>\n",
       "  </tbody>\n",
       "</table>\n",
       "</div>"
      ],
      "text/plain": [
       "application_status ab_test_group  complete  incomplete  total  percent_applied\n",
       "0                              A       250        2254   2504          0.09984\n",
       "1                              B       325        2175   2500          0.13000"
      ]
     },
     "execution_count": 21,
     "metadata": {},
     "output_type": "execute_result"
    }
   ],
   "source": [
    "#pivot application_counts df\n",
    "application_pivot = application_counts.pivot(index='ab_test_group', \n",
    "                             columns='application_status', \n",
    "                             values='first_name').reset_index()\n",
    "#create total column for finding proportions\n",
    "application_pivot['total'] = application_pivot.complete + application_pivot.incomplete\n",
    "#create column for percentage of complete applications for each group\n",
    "application_pivot['percent_applied'] = application_pivot.complete / application_pivot.total\n",
    "application_pivot"
   ]
  },
  {
   "cell_type": "markdown",
   "metadata": {},
   "source": [
    "It looks like more people from Group B turned in an application.  Why might that be?\n",
    "\n",
    "We need to know if this difference is statistically significant."
   ]
  },
  {
   "cell_type": "markdown",
   "metadata": {},
   "source": [
    "## Calculate the statistical significance of applications"
   ]
  },
  {
   "cell_type": "markdown",
   "metadata": {},
   "source": [
    "Having calculated the difference in who turned in an application between groups, determine if this difference is statistically significant."
   ]
  },
  {
   "cell_type": "code",
   "execution_count": 22,
   "metadata": {
    "ExecuteTime": {
     "end_time": "2020-12-22T14:33:53.467891Z",
     "start_time": "2020-12-22T14:33:53.462100Z"
    }
   },
   "outputs": [
    {
     "data": {
      "text/html": [
       "<div>\n",
       "<style scoped>\n",
       "    .dataframe tbody tr th:only-of-type {\n",
       "        vertical-align: middle;\n",
       "    }\n",
       "\n",
       "    .dataframe tbody tr th {\n",
       "        vertical-align: top;\n",
       "    }\n",
       "\n",
       "    .dataframe thead th {\n",
       "        text-align: right;\n",
       "    }\n",
       "</style>\n",
       "<table border=\"1\" class=\"dataframe\">\n",
       "  <thead>\n",
       "    <tr style=\"text-align: right;\">\n",
       "      <th>ab_test_group</th>\n",
       "      <th>A</th>\n",
       "      <th>B</th>\n",
       "    </tr>\n",
       "    <tr>\n",
       "      <th>application_status</th>\n",
       "      <th></th>\n",
       "      <th></th>\n",
       "    </tr>\n",
       "  </thead>\n",
       "  <tbody>\n",
       "    <tr>\n",
       "      <th>complete</th>\n",
       "      <td>250</td>\n",
       "      <td>325</td>\n",
       "    </tr>\n",
       "    <tr>\n",
       "      <th>incomplete</th>\n",
       "      <td>2254</td>\n",
       "      <td>2175</td>\n",
       "    </tr>\n",
       "  </tbody>\n",
       "</table>\n",
       "</div>"
      ],
      "text/plain": [
       "ab_test_group          A     B\n",
       "application_status            \n",
       "complete             250   325\n",
       "incomplete          2254  2175"
      ]
     },
     "execution_count": 22,
     "metadata": {},
     "output_type": "execute_result"
    }
   ],
   "source": [
    "#Create cross tabb of counts\n",
    "Xtab = pd.crosstab(df.application_status, df.ab_test_group)\n",
    "Xtab"
   ]
  },
  {
   "cell_type": "code",
   "execution_count": 23,
   "metadata": {},
   "outputs": [
    {
     "data": {
      "text/plain": [
       "0.0009647827600722304"
      ]
     },
     "execution_count": 23,
     "metadata": {},
     "output_type": "execute_result"
    }
   ],
   "source": [
    "from scipy.stats import chi2_contingency\n",
    "chi2, pval, dof, expected = chi2_contingency(Xtab)\n",
    "pval"
   ]
  },
  {
   "cell_type": "markdown",
   "metadata": {},
   "source": [
    "Since the p-value is 0.0009, which is less than .05, the difference in complete applications amongst those in Group A and B is statistically significant.  "
   ]
  },
  {
   "cell_type": "markdown",
   "metadata": {},
   "source": [
    "## Detemine the count of memberships from applications"
   ]
  },
  {
   "cell_type": "markdown",
   "metadata": {},
   "source": [
    "Of those who picked up an application, how many purchased a membership?\n",
    "\n",
    "Determine how many potential customers purchased a membership out of those that picked up an application.\n",
    "\n",
    "It looks like people who took the fitness test were more likely to purchase a membership if they picked up an application. Why might that be?"
   ]
  },
  {
   "cell_type": "code",
   "execution_count": 24,
   "metadata": {},
   "outputs": [
    {
     "data": {
      "text/html": [
       "<div>\n",
       "<style scoped>\n",
       "    .dataframe tbody tr th:only-of-type {\n",
       "        vertical-align: middle;\n",
       "    }\n",
       "\n",
       "    .dataframe tbody tr th {\n",
       "        vertical-align: top;\n",
       "    }\n",
       "\n",
       "    .dataframe thead th {\n",
       "        text-align: right;\n",
       "    }\n",
       "</style>\n",
       "<table border=\"1\" class=\"dataframe\">\n",
       "  <thead>\n",
       "    <tr style=\"text-align: right;\">\n",
       "      <th></th>\n",
       "      <th>first_name</th>\n",
       "      <th>last_name</th>\n",
       "      <th>email</th>\n",
       "      <th>gender</th>\n",
       "      <th>visit_date</th>\n",
       "      <th>fitness_test_date</th>\n",
       "      <th>application_date</th>\n",
       "      <th>purchase_date</th>\n",
       "      <th>ab_test_group</th>\n",
       "      <th>application_status</th>\n",
       "      <th>purchased_membership</th>\n",
       "    </tr>\n",
       "  </thead>\n",
       "  <tbody>\n",
       "    <tr>\n",
       "      <th>0</th>\n",
       "      <td>Kim</td>\n",
       "      <td>Walter</td>\n",
       "      <td>KimWalter58@gmail.com</td>\n",
       "      <td>female</td>\n",
       "      <td>7-1-17</td>\n",
       "      <td>2017-07-03</td>\n",
       "      <td>NaN</td>\n",
       "      <td>NaN</td>\n",
       "      <td>A</td>\n",
       "      <td>incomplete</td>\n",
       "      <td>no</td>\n",
       "    </tr>\n",
       "    <tr>\n",
       "      <th>1</th>\n",
       "      <td>Tom</td>\n",
       "      <td>Webster</td>\n",
       "      <td>TW3857@gmail.com</td>\n",
       "      <td>male</td>\n",
       "      <td>7-1-17</td>\n",
       "      <td>2017-07-02</td>\n",
       "      <td>NaN</td>\n",
       "      <td>NaN</td>\n",
       "      <td>A</td>\n",
       "      <td>incomplete</td>\n",
       "      <td>no</td>\n",
       "    </tr>\n",
       "    <tr>\n",
       "      <th>2</th>\n",
       "      <td>Edward</td>\n",
       "      <td>Bowen</td>\n",
       "      <td>Edward.Bowen@gmail.com</td>\n",
       "      <td>male</td>\n",
       "      <td>7-1-17</td>\n",
       "      <td>NaN</td>\n",
       "      <td>2017-07-04</td>\n",
       "      <td>2017-07-04</td>\n",
       "      <td>B</td>\n",
       "      <td>complete</td>\n",
       "      <td>yes</td>\n",
       "    </tr>\n",
       "    <tr>\n",
       "      <th>3</th>\n",
       "      <td>Marcus</td>\n",
       "      <td>Bauer</td>\n",
       "      <td>Marcus.Bauer@gmail.com</td>\n",
       "      <td>male</td>\n",
       "      <td>7-1-17</td>\n",
       "      <td>2017-07-01</td>\n",
       "      <td>2017-07-03</td>\n",
       "      <td>2017-07-05</td>\n",
       "      <td>A</td>\n",
       "      <td>complete</td>\n",
       "      <td>yes</td>\n",
       "    </tr>\n",
       "    <tr>\n",
       "      <th>4</th>\n",
       "      <td>Roberta</td>\n",
       "      <td>Best</td>\n",
       "      <td>RB6305@hotmail.com</td>\n",
       "      <td>female</td>\n",
       "      <td>7-1-17</td>\n",
       "      <td>2017-07-02</td>\n",
       "      <td>NaN</td>\n",
       "      <td>NaN</td>\n",
       "      <td>A</td>\n",
       "      <td>incomplete</td>\n",
       "      <td>no</td>\n",
       "    </tr>\n",
       "  </tbody>\n",
       "</table>\n",
       "</div>"
      ],
      "text/plain": [
       "  first_name last_name                   email  gender visit_date  \\\n",
       "0        Kim    Walter   KimWalter58@gmail.com  female     7-1-17   \n",
       "1        Tom   Webster        TW3857@gmail.com    male     7-1-17   \n",
       "2     Edward     Bowen  Edward.Bowen@gmail.com    male     7-1-17   \n",
       "3     Marcus     Bauer  Marcus.Bauer@gmail.com    male     7-1-17   \n",
       "4    Roberta      Best      RB6305@hotmail.com  female     7-1-17   \n",
       "\n",
       "  fitness_test_date application_date purchase_date ab_test_group  \\\n",
       "0        2017-07-03              NaN           NaN             A   \n",
       "1        2017-07-02              NaN           NaN             A   \n",
       "2               NaN       2017-07-04    2017-07-04             B   \n",
       "3        2017-07-01       2017-07-03    2017-07-05             A   \n",
       "4        2017-07-02              NaN           NaN             A   \n",
       "\n",
       "  application_status purchased_membership  \n",
       "0         incomplete                   no  \n",
       "1         incomplete                   no  \n",
       "2           complete                  yes  \n",
       "3           complete                  yes  \n",
       "4         incomplete                   no  "
      ]
     },
     "execution_count": 24,
     "metadata": {},
     "output_type": "execute_result"
    }
   ],
   "source": [
    "#create 'purchased_membership' variable\n",
    "df['purchased_membership'] = df.purchase_date.apply(lambda x: 'yes' if pd.notnull(x) else 'no' )\n",
    "df.head()"
   ]
  },
  {
   "cell_type": "code",
   "execution_count": 25,
   "metadata": {},
   "outputs": [
    {
     "data": {
      "text/html": [
       "<div>\n",
       "<style scoped>\n",
       "    .dataframe tbody tr th:only-of-type {\n",
       "        vertical-align: middle;\n",
       "    }\n",
       "\n",
       "    .dataframe tbody tr th {\n",
       "        vertical-align: top;\n",
       "    }\n",
       "\n",
       "    .dataframe thead th {\n",
       "        text-align: right;\n",
       "    }\n",
       "</style>\n",
       "<table border=\"1\" class=\"dataframe\">\n",
       "  <thead>\n",
       "    <tr style=\"text-align: right;\">\n",
       "      <th></th>\n",
       "      <th>first_name</th>\n",
       "      <th>last_name</th>\n",
       "      <th>email</th>\n",
       "      <th>gender</th>\n",
       "      <th>visit_date</th>\n",
       "      <th>fitness_test_date</th>\n",
       "      <th>application_date</th>\n",
       "      <th>purchase_date</th>\n",
       "      <th>ab_test_group</th>\n",
       "      <th>application_status</th>\n",
       "      <th>purchased_membership</th>\n",
       "    </tr>\n",
       "  </thead>\n",
       "  <tbody>\n",
       "    <tr>\n",
       "      <th>2</th>\n",
       "      <td>Edward</td>\n",
       "      <td>Bowen</td>\n",
       "      <td>Edward.Bowen@gmail.com</td>\n",
       "      <td>male</td>\n",
       "      <td>7-1-17</td>\n",
       "      <td>NaN</td>\n",
       "      <td>2017-07-04</td>\n",
       "      <td>2017-07-04</td>\n",
       "      <td>B</td>\n",
       "      <td>complete</td>\n",
       "      <td>yes</td>\n",
       "    </tr>\n",
       "    <tr>\n",
       "      <th>3</th>\n",
       "      <td>Marcus</td>\n",
       "      <td>Bauer</td>\n",
       "      <td>Marcus.Bauer@gmail.com</td>\n",
       "      <td>male</td>\n",
       "      <td>7-1-17</td>\n",
       "      <td>2017-07-01</td>\n",
       "      <td>2017-07-03</td>\n",
       "      <td>2017-07-05</td>\n",
       "      <td>A</td>\n",
       "      <td>complete</td>\n",
       "      <td>yes</td>\n",
       "    </tr>\n",
       "    <tr>\n",
       "      <th>9</th>\n",
       "      <td>Salvador</td>\n",
       "      <td>Cardenas</td>\n",
       "      <td>SCardenas1980@gmail.com</td>\n",
       "      <td>male</td>\n",
       "      <td>7-1-17</td>\n",
       "      <td>2017-07-07</td>\n",
       "      <td>2017-07-06</td>\n",
       "      <td>NaN</td>\n",
       "      <td>A</td>\n",
       "      <td>complete</td>\n",
       "      <td>no</td>\n",
       "    </tr>\n",
       "    <tr>\n",
       "      <th>11</th>\n",
       "      <td>Valerie</td>\n",
       "      <td>Munoz</td>\n",
       "      <td>VMunoz1998@gmail.com</td>\n",
       "      <td>female</td>\n",
       "      <td>7-1-17</td>\n",
       "      <td>2017-07-03</td>\n",
       "      <td>2017-07-05</td>\n",
       "      <td>2017-07-06</td>\n",
       "      <td>A</td>\n",
       "      <td>complete</td>\n",
       "      <td>yes</td>\n",
       "    </tr>\n",
       "    <tr>\n",
       "      <th>35</th>\n",
       "      <td>Michael</td>\n",
       "      <td>Burks</td>\n",
       "      <td>MB9820@gmail.com</td>\n",
       "      <td>male</td>\n",
       "      <td>7-1-17</td>\n",
       "      <td>NaN</td>\n",
       "      <td>2017-07-07</td>\n",
       "      <td>2017-07-13</td>\n",
       "      <td>B</td>\n",
       "      <td>complete</td>\n",
       "      <td>yes</td>\n",
       "    </tr>\n",
       "  </tbody>\n",
       "</table>\n",
       "</div>"
      ],
      "text/plain": [
       "   first_name last_name                    email  gender visit_date  \\\n",
       "2      Edward     Bowen   Edward.Bowen@gmail.com    male     7-1-17   \n",
       "3      Marcus     Bauer   Marcus.Bauer@gmail.com    male     7-1-17   \n",
       "9    Salvador  Cardenas  SCardenas1980@gmail.com    male     7-1-17   \n",
       "11    Valerie     Munoz     VMunoz1998@gmail.com  female     7-1-17   \n",
       "35    Michael     Burks         MB9820@gmail.com    male     7-1-17   \n",
       "\n",
       "   fitness_test_date application_date purchase_date ab_test_group  \\\n",
       "2                NaN       2017-07-04    2017-07-04             B   \n",
       "3         2017-07-01       2017-07-03    2017-07-05             A   \n",
       "9         2017-07-07       2017-07-06           NaN             A   \n",
       "11        2017-07-03       2017-07-05    2017-07-06             A   \n",
       "35               NaN       2017-07-07    2017-07-13             B   \n",
       "\n",
       "   application_status purchased_membership  \n",
       "2            complete                  yes  \n",
       "3            complete                  yes  \n",
       "9            complete                   no  \n",
       "11           complete                  yes  \n",
       "35           complete                  yes  "
      ]
     },
     "execution_count": 25,
     "metadata": {},
     "output_type": "execute_result"
    }
   ],
   "source": [
    "#Create data frame with applicants only\n",
    "applicants = df[df.application_status =='complete']\n",
    "applicants.head()"
   ]
  },
  {
   "cell_type": "code",
   "execution_count": 31,
   "metadata": {},
   "outputs": [
    {
     "data": {
      "text/html": [
       "<div>\n",
       "<style scoped>\n",
       "    .dataframe tbody tr th:only-of-type {\n",
       "        vertical-align: middle;\n",
       "    }\n",
       "\n",
       "    .dataframe tbody tr th {\n",
       "        vertical-align: top;\n",
       "    }\n",
       "\n",
       "    .dataframe thead th {\n",
       "        text-align: right;\n",
       "    }\n",
       "</style>\n",
       "<table border=\"1\" class=\"dataframe\">\n",
       "  <thead>\n",
       "    <tr style=\"text-align: right;\">\n",
       "      <th>purchased_membership</th>\n",
       "      <th>ab_test_group</th>\n",
       "      <th>no</th>\n",
       "      <th>yes</th>\n",
       "      <th>total</th>\n",
       "      <th>percent_members</th>\n",
       "    </tr>\n",
       "  </thead>\n",
       "  <tbody>\n",
       "    <tr>\n",
       "      <th>0</th>\n",
       "      <td>A</td>\n",
       "      <td>50</td>\n",
       "      <td>200</td>\n",
       "      <td>250</td>\n",
       "      <td>0.800000</td>\n",
       "    </tr>\n",
       "    <tr>\n",
       "      <th>1</th>\n",
       "      <td>B</td>\n",
       "      <td>75</td>\n",
       "      <td>250</td>\n",
       "      <td>325</td>\n",
       "      <td>0.769231</td>\n",
       "    </tr>\n",
       "  </tbody>\n",
       "</table>\n",
       "</div>"
      ],
      "text/plain": [
       "purchased_membership ab_test_group  no  yes  total  percent_members\n",
       "0                                A  50  200    250         0.800000\n",
       "1                                B  75  250    325         0.769231"
      ]
     },
     "execution_count": 31,
     "metadata": {},
     "output_type": "execute_result"
    }
   ],
   "source": [
    "#create membership table of only applicants\n",
    "memberships = applicants.groupby(['ab_test_group', 'purchased_membership']).first_name.count().reset_index()\n",
    "\n",
    "#pivot membership df\n",
    "memberships_pivot = memberships.pivot(index='ab_test_group', \n",
    "                             columns='purchased_membership', \n",
    "                             values='first_name').reset_index()\n",
    "#create total column for finding proportions\n",
    "memberships_pivot['total'] = memberships_pivot.yes + memberships_pivot.no\n",
    "\n",
    "#create column for percentage of memberships for each group\n",
    "memberships_pivot['percent_members'] = memberships_pivot.yes / memberships_pivot.total\n",
    "memberships_pivot"
   ]
  },
  {
   "cell_type": "markdown",
   "metadata": {},
   "source": [
    "## Calculate the statistical significance of memberships"
   ]
  },
  {
   "cell_type": "markdown",
   "metadata": {
    "ExecuteTime": {
     "end_time": "2020-12-22T14:22:22.296025Z",
     "start_time": "2020-12-22T14:22:22.284482Z"
    }
   },
   "source": [
    "Calculate if the difference between the following groups is statistically significant: \n",
    "- The customers that purchased a membership and took a fitness test.\n",
    "- The customers that did not take a fitness test and purchased a membership."
   ]
  },
  {
   "cell_type": "code",
   "execution_count": 34,
   "metadata": {},
   "outputs": [
    {
     "data": {
      "text/plain": [
       "0.43258646051083327"
      ]
     },
     "execution_count": 34,
     "metadata": {},
     "output_type": "execute_result"
    }
   ],
   "source": [
    "#create crosstab for chi2 test\n",
    "member_xtab = pd.crosstab(applicants.ab_test_group, applicants.purchased_membership)\n",
    "member_xtab\n",
    "chi2, pval, dof, expected = chi2_contingency(member_xtab)\n",
    "pval"
   ]
  },
  {
   "cell_type": "markdown",
   "metadata": {},
   "source": [
    "The pvalue is too high to to be statistically significant, and causes us to reject the null hypothesis that there is a difference between the number of customers that purchased a membership and did take a fitness test compared to those who did not"
   ]
  },
  {
   "cell_type": "markdown",
   "metadata": {},
   "source": [
    "## Detemine the count of all memberships"
   ]
  },
  {
   "cell_type": "markdown",
   "metadata": {},
   "source": [
    "Previously, you looked at what percentage of people who picked up applications purchased memberships. \n",
    "\n",
    "Now, determine what percentage of ALL visitors purchased memberships. "
   ]
  },
  {
   "cell_type": "code",
   "execution_count": 37,
   "metadata": {},
   "outputs": [
    {
     "data": {
      "text/html": [
       "<div>\n",
       "<style scoped>\n",
       "    .dataframe tbody tr th:only-of-type {\n",
       "        vertical-align: middle;\n",
       "    }\n",
       "\n",
       "    .dataframe tbody tr th {\n",
       "        vertical-align: top;\n",
       "    }\n",
       "\n",
       "    .dataframe thead th {\n",
       "        text-align: right;\n",
       "    }\n",
       "</style>\n",
       "<table border=\"1\" class=\"dataframe\">\n",
       "  <thead>\n",
       "    <tr style=\"text-align: right;\">\n",
       "      <th>purchased_membership</th>\n",
       "      <th>ab_test_group</th>\n",
       "      <th>no</th>\n",
       "      <th>yes</th>\n",
       "      <th>total</th>\n",
       "      <th>percent_members</th>\n",
       "    </tr>\n",
       "  </thead>\n",
       "  <tbody>\n",
       "    <tr>\n",
       "      <th>0</th>\n",
       "      <td>A</td>\n",
       "      <td>2304</td>\n",
       "      <td>200</td>\n",
       "      <td>2504</td>\n",
       "      <td>0.079872</td>\n",
       "    </tr>\n",
       "    <tr>\n",
       "      <th>1</th>\n",
       "      <td>B</td>\n",
       "      <td>2250</td>\n",
       "      <td>250</td>\n",
       "      <td>2500</td>\n",
       "      <td>0.100000</td>\n",
       "    </tr>\n",
       "  </tbody>\n",
       "</table>\n",
       "</div>"
      ],
      "text/plain": [
       "purchased_membership ab_test_group    no  yes  total  percent_members\n",
       "0                                A  2304  200   2504         0.079872\n",
       "1                                B  2250  250   2500         0.100000"
      ]
     },
     "execution_count": 37,
     "metadata": {},
     "output_type": "execute_result"
    }
   ],
   "source": [
    "#create membership table of all visitors\n",
    "all_memberships = df.groupby(['ab_test_group', 'purchased_membership']).first_name.count().reset_index()\n",
    "#pivot membership df\n",
    "all_memberships_pivot = all_memberships.pivot(index='ab_test_group', \n",
    "                             columns='purchased_membership', \n",
    "                             values='first_name').reset_index()\n",
    "#create total column for finding proportions\n",
    "all_memberships_pivot['total'] = all_memberships_pivot.yes + all_memberships_pivot.no\n",
    "\n",
    "#create column for percentage of memberships for each group\n",
    "all_memberships_pivot['percent_members'] = all_memberships_pivot.yes / all_memberships_pivot.total\n",
    "all_memberships_pivot"
   ]
  },
  {
   "cell_type": "markdown",
   "metadata": {},
   "source": [
    "## Calculate the statistical significance between groups"
   ]
  },
  {
   "cell_type": "markdown",
   "metadata": {},
   "source": [
    "Determine if there is a significant difference in memberships between Group A and Group B."
   ]
  },
  {
   "cell_type": "code",
   "execution_count": 40,
   "metadata": {},
   "outputs": [
    {
     "data": {
      "text/html": [
       "<div>\n",
       "<style scoped>\n",
       "    .dataframe tbody tr th:only-of-type {\n",
       "        vertical-align: middle;\n",
       "    }\n",
       "\n",
       "    .dataframe tbody tr th {\n",
       "        vertical-align: top;\n",
       "    }\n",
       "\n",
       "    .dataframe thead th {\n",
       "        text-align: right;\n",
       "    }\n",
       "</style>\n",
       "<table border=\"1\" class=\"dataframe\">\n",
       "  <thead>\n",
       "    <tr style=\"text-align: right;\">\n",
       "      <th>purchased_membership</th>\n",
       "      <th>no</th>\n",
       "      <th>yes</th>\n",
       "    </tr>\n",
       "    <tr>\n",
       "      <th>ab_test_group</th>\n",
       "      <th></th>\n",
       "      <th></th>\n",
       "    </tr>\n",
       "  </thead>\n",
       "  <tbody>\n",
       "    <tr>\n",
       "      <th>A</th>\n",
       "      <td>2304</td>\n",
       "      <td>200</td>\n",
       "    </tr>\n",
       "    <tr>\n",
       "      <th>B</th>\n",
       "      <td>2250</td>\n",
       "      <td>250</td>\n",
       "    </tr>\n",
       "  </tbody>\n",
       "</table>\n",
       "</div>"
      ],
      "text/plain": [
       "purchased_membership    no  yes\n",
       "ab_test_group                  \n",
       "A                     2304  200\n",
       "B                     2250  250"
      ]
     },
     "execution_count": 40,
     "metadata": {},
     "output_type": "execute_result"
    }
   ],
   "source": [
    "#create crosstab for chi2 test\n",
    "all_member_xtab = pd.crosstab(df.ab_test_group, df.purchased_membership)\n",
    "all_member_xtab"
   ]
  },
  {
   "cell_type": "code",
   "execution_count": 41,
   "metadata": {},
   "outputs": [
    {
     "data": {
      "text/plain": [
       "0.0147241146457832"
      ]
     },
     "execution_count": 41,
     "metadata": {},
     "output_type": "execute_result"
    }
   ],
   "source": [
    "chi2, pval, dof, expected = chi2_contingency(all_member_xtab)\n",
    "pval"
   ]
  },
  {
   "cell_type": "markdown",
   "metadata": {},
   "source": [
    "The pvalue of .01 with a threshold of .05 is statistically significant.  Therefore we should not reject the null hypothesis that visitors assigned to Group B(no fitness test) will be more likely to eventually purchase a membership to MuscleHub than visitors assigned to Group A.\n",
    "\n",
    "However, it is important to note that when assessing the groups among those customers that filled out an application, those that completed a fitness test (Group A), were more likely to make a purchase than those customers that did not complete a fitness test (Group B)."
   ]
  },
  {
   "cell_type": "markdown",
   "metadata": {},
   "source": [
    "## Visualize the results"
   ]
  },
  {
   "cell_type": "markdown",
   "metadata": {},
   "source": [
    "Create visualizations for Janet that show the difference between Group A (people who were given the fitness test) and Group B (people who were not given the fitness test) at each state of the process:\n",
    "\n",
    "- Percent of visitors who apply.\n",
    "- Percent of applicants who purchase a membership.\n",
    "- Percent of visitors who purchase a membership."
   ]
  },
  {
   "cell_type": "code",
   "execution_count": 72,
   "metadata": {},
   "outputs": [
    {
     "data": {
      "image/png": "[encoded data removed]",
      "text/plain": [
       "<Figure size 432x288 with 1 Axes>"
      ]
     },
     "metadata": {
      "needs_background": "light"
     },
     "output_type": "display_data"
    }
   ],
   "source": [
    "#percent of visitors who apply\n",
    "ax = plt.subplot()\n",
    "plt.bar(range(len(application_pivot)),\n",
    "       application_pivot['percent_applied'].values)\n",
    "ax.set_xticks(range(len(application_pivot)))\n",
    "ax.set_xticklabels(['Fitness Test', 'No Fitness Test'])\n",
    "ax.set_yticks([0, 0.05, 0.10, 0.15, 0.20])\n",
    "ax.set_yticklabels(['0%', '5%', '10%', '15%', '20%'])\n",
    "ax.set_title('Percent of Visitors That Completed an Application by Test Group')\n",
    "plt.show()"
   ]
  },
  {
   "cell_type": "code",
   "execution_count": 74,
   "metadata": {},
   "outputs": [
    {
     "data": {
      "image/png": "[encoded data removed]",
      "text/plain": [
       "<Figure size 432x288 with 1 Axes>"
      ]
     },
     "metadata": {
      "needs_background": "light"
     },
     "output_type": "display_data"
    }
   ],
   "source": [
    "#percent of applicants who purchase a membership\n",
    "ax = plt.subplot()\n",
    "plt.bar(range(len(memberships_pivot)),\n",
    "       memberships_pivot['percent_members'].values)\n",
    "ax.set_xticks(range(len(memberships_pivot)))\n",
    "ax.set_xticklabels(['Fitness Test', 'No Fitness Test'])\n",
    "ax.set_yticks([0, 0.1, 0.2, 0.3, 0.4, 0.5, 0.6, 0.7, 0.8])\n",
    "ax.set_yticklabels(['0%', '10%', '20%', '30%', '40%', '50%', '60%', '70%', '80%'])\n",
    "ax.set_title('Percent of Applicants Who Purchased a Membership by Test Group')\n",
    "plt.show()"
   ]
  },
  {
   "cell_type": "code",
   "execution_count": 77,
   "metadata": {},
   "outputs": [
    {
     "data": {
      "image/png": "[encoded data removed]",
      "text/plain": [
       "<Figure size 432x288 with 1 Axes>"
      ]
     },
     "metadata": {
      "needs_background": "light"
     },
     "output_type": "display_data"
    }
   ],
   "source": [
    "#percent of visitors who purchased a membership\n",
    "ax = plt.subplot()\n",
    "plt.bar(range(len(all_memberships_pivot)),\n",
    "       all_memberships_pivot['percent_members'].values)\n",
    "ax.set_xticks(range(len(all_memberships_pivot)))\n",
    "ax.set_xticklabels(['Fitness Test', 'No Fitness Test'])\n",
    "ax.set_yticks([0, 0.02, 0.04, 0.06, 0.08, 0.10])\n",
    "ax.set_yticklabels(['0%', '2%', '4%', '6%', '8%', '10%'])\n",
    "ax.set_title('Percent of Visitors That Purchased a Membership by Test Group')\n",
    "plt.show()"
   ]
  },
  {
   "cell_type": "markdown",
   "metadata": {},
   "source": [
    "## Congratulations!!"
   ]
  },
  {
   "cell_type": "markdown",
   "metadata": {},
   "source": [
    "Congratulations, your work has been a valuable contribution for Janet to determine MuscleHub's membership process. Janet asks if you would also help her share your work with a presentation. "
   ]
  },
  {
   "cell_type": "markdown",
   "metadata": {},
   "source": [
    "## Challenge Assignment"
   ]
  },
  {
   "cell_type": "markdown",
   "metadata": {},
   "source": [
    "- Develop a presentation that demonstrates your findings to Janet. She has decided that your recommendation will determine if potential customers should take a fitness test as a component of their application. Your presentation should include the following:\n",
    "    - A title slide\n",
    "    - A description of what happened in this A/B test\n",
    "    - A summary of your dataset and any information you think would be helpful background\n",
    "    - The results of the three hypothesis tests that you ran, including an explanation of the type of test that you used and why it was appropriate\n",
    "    - A summary of the qualitative data\n",
    "    - A recommendation for MuscleHub\n",
    "\n",
    "- Create a [wordcloud](https://pypi.org/project/wordcloud/) visualization that Janet can use to create an ad for the MuscleHub Gym with the data in `interviews.txt`. "
   ]
  },
  {
   "cell_type": "code",
   "execution_count": null,
   "metadata": {},
   "outputs": [],
   "source": []
  }
 ],
 "metadata": {
  "kernelspec": {
   "display_name": "Python 3 (ipykernel)",
   "language": "python",
   "name": "python3"
  },
  "language_info": {
   "codemirror_mode": {
    "name": "ipython",
    "version": 3
   },
   "file_extension": ".py",
   "mimetype": "text/x-python",
   "name": "python",
   "nbconvert_exporter": "python",
   "pygments_lexer": "ipython3",
   "version": "3.9.7"
  },
  "toc": {
   "base_numbering": 1,
   "nav_menu": {},
   "number_sections": true,
   "sideBar": true,
   "skip_h1_title": false,
   "title_cell": "Table of Contents",
   "title_sidebar": "Contents",
   "toc_cell": false,
   "toc_position": {},
   "toc_section_display": true,
   "toc_window_display": false
  }
 },
 "nbformat": 4,
 "nbformat_minor": 2
}
